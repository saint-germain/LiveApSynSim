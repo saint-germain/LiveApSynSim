{
 "cells": [
  {
   "cell_type": "code",
   "execution_count": 1,
   "metadata": {
    "collapsed": true
   },
   "outputs": [],
   "source": [
    "import cv2\n",
    "import matplotlib\n",
    "matplotlib.use('qt5agg')\n",
    "import matplotlib.pyplot as plt\n",
    "import matplotlib.animation as animation\n",
    "import numpy as np\n",
    "import ipywidgets as widgets\n",
    "from IPython.display import display\n",
    "cap = cv2.VideoCapture(0)"
   ]
  },
  {
   "cell_type": "code",
   "execution_count": 2,
   "metadata": {},
   "outputs": [],
   "source": [
    "def ApSy(width,ant=50,freq=1e9,myres=10):\n",
    "    AA=np.loadtxt(\"almapos.txt\")\n",
    "    almal_x=AA[0,:ant]\n",
    "    almal_y=AA[1,:ant]\n",
    "    wavel=3e8/freq\n",
    "    bmax=wavel*width/2\n",
    "    # Antenna position adjustment to fit max. baseline\n",
    "    dx=almal_x-almal_x.min()\n",
    "    dy=almal_y-almal_y.min()\n",
    "    dmax=np.max([dx.max(),dy.max()])\n",
    "    dnx=dx/dmax\n",
    "    dny=dy/dmax\n",
    "    x=bmax*dnx\n",
    "    y=bmax*dny\n",
    "    lx=np.zeros((ant,ant))\n",
    "    ly=np.zeros((ant,ant))\n",
    "    # calculate relative positions between antennae (baselines for the visibilities)\n",
    "    for i in range(ant):\n",
    "        for j in range(ant):\n",
    "            lx[i,j]=(x[i]-x[j])\n",
    "            ly[i,j]=(y[i]-y[j])\n",
    "    # remember that x and y are swapped in imshow\n",
    "    u=ly/wavel      # u values in wavenumber\n",
    "    v=lx/wavel      # v values in wavenumber\n",
    "    re_u=np.reshape(u,(len(x)**2),order='F') #reshape u into linear form\n",
    "    re_v=np.reshape(v,(len(y)**2),order='F') \n",
    "    ore_u=re_u/myres\n",
    "    ore_v=re_v/myres\n",
    "    # UV gridding\n",
    "    # create an empty matrix same size as in image for multiplying with fft of true sky image\n",
    "    # this acts as a mask in fourier space (resolution of exactly 1 px)\n",
    "    obs_uv_matrix=np.zeros((width,width))          \n",
    "    for k in range(len(ore_u)): \n",
    "        int_u=int((ore_u)[k])\n",
    "        int_v=int((ore_v)[k])\n",
    "        obs_uv_matrix[int_u,int_v]=1.0\n",
    "    obs_uv_matrix[0,0]=0.0 \n",
    "    return obs_uv_matrix\n",
    "    \n",
    "def CreateImage(in_img,obs_uv_matrix):    \n",
    "    \n",
    "    fft_img=np.fft.fft2(in_img)              #This is the complex visibility from a complete and ideal array from u,v =0,0 outward.\n",
    "    observed=fft_img*obs_uv_matrix           #Observed complex visibility. Combines ideal visibility with the observed uv points, removing those not seen by the selected array configuration.\n",
    "    ifft_img=np.fft.ifft2(observed)          #inverse FFTs the observed visibility\n",
    "    real_ifft_img=ifft_img.real              #Takes real part only for plotting\n",
    "    return real_ifft_img"
   ]
  },
  {
   "cell_type": "code",
   "execution_count": 3,
   "metadata": {
    "collapsed": true
   },
   "outputs": [],
   "source": [
    "ret, frame = cap.read()\n",
    "mns=np.min((frame.shape)[:2])"
   ]
  },
  {
   "cell_type": "code",
   "execution_count": 4,
   "metadata": {},
   "outputs": [],
   "source": [
    "w = widgets.interactive(ApSy,width=widgets.fixed(mns), ant=(2,50), myres=(1,20),freq=widgets.fixed(1e9))"
   ]
  },
  {
   "cell_type": "code",
   "execution_count": 5,
   "metadata": {},
   "outputs": [
    {
     "data": {
      "application/vnd.jupyter.widget-view+json": {
       "model_id": "6dc3003532a245ba8a122b0979de153b"
      }
     },
     "metadata": {},
     "output_type": "display_data"
    }
   ],
   "source": [
    "display(w)"
   ]
  },
  {
   "cell_type": "code",
   "execution_count": 14,
   "metadata": {
    "scrolled": true
   },
   "outputs": [],
   "source": [
    "fig = plt.figure(figsize=(10,5)) \n",
    "ax = fig.add_subplot(121)\n",
    "ax2 = fig.add_subplot(122)\n",
    "frame=frame[:mns,:mns]\n",
    "im = ax.imshow(frame[:,:,0], animated=True,cmap='gray')\n",
    "im2 = ax2.imshow(frame[:,:,0], animated=True,cmap='gray')\n",
    "\n",
    "def updatefig(*args):\n",
    "    ret, frame = cap.read()\n",
    "    obs_uv_matrix=w.result\n",
    "    frame=frame[:mns,:mns]\n",
    "    newf=CreateImage(frame[:,:,0],obs_uv_matrix)\n",
    "    im.set_array(newf)\n",
    "    im2.set_array(frame[:,:,0])\n",
    "    return im,im2\n",
    "ani = animation.FuncAnimation(fig, updatefig, interval=10)\n",
    "plt.show()"
   ]
  },
  {
   "cell_type": "code",
   "execution_count": null,
   "metadata": {
    "collapsed": true
   },
   "outputs": [],
   "source": []
  },
  {
   "cell_type": "code",
   "execution_count": null,
   "metadata": {
    "collapsed": true
   },
   "outputs": [],
   "source": []
  },
  {
   "cell_type": "code",
   "execution_count": null,
   "metadata": {
    "collapsed": true
   },
   "outputs": [],
   "source": []
  }
 ],
 "metadata": {
  "kernelspec": {
   "display_name": "Python 3",
   "language": "python",
   "name": "python3"
  },
  "language_info": {
   "codemirror_mode": {
    "name": "ipython",
    "version": 3
   },
   "file_extension": ".py",
   "mimetype": "text/x-python",
   "name": "python",
   "nbconvert_exporter": "python",
   "pygments_lexer": "ipython3",
   "version": "3.6.1"
  }
 },
 "nbformat": 4,
 "nbformat_minor": 1
}
