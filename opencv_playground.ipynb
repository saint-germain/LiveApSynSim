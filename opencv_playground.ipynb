{
 "cells": [
  {
   "cell_type": "code",
   "execution_count": 17,
   "metadata": {
    "collapsed": true
   },
   "outputs": [],
   "source": [
    "envli=['/home/ecci/miniconda3/envs/py27/lib/python27.zip', '/home/ecci/miniconda3/envs/py27/lib/python2.7', '/home/ecci/miniconda3/envs/py27/lib/python2.7/plat-linux2', '/home/ecci/miniconda3/envs/py27/lib/python2.7/lib-tk', '/home/ecci/miniconda3/envs/py27/lib/python2.7/lib-old', '/home/ecci/miniconda3/envs/py27/lib/python2.7/lib-dynload', '/home/ecci/miniconda3/envs/py27/lib/python2.7/site-packages', '/home/ecci/miniconda3/envs/py27/lib/python2.7/site-packages/Sphinx-1.5.6-py2.7.egg', '/home/ecci/miniconda3/envs/py27/lib/python2.7/site-packages/setuptools-27.2.0-py2.7.egg', '/home/ecci/miniconda3/envs/py27/lib/python2.7/site-packages/wx-3.0-gtk2']\n",
    "import sys\n",
    "for i in envli:\n",
    "    sys.path.append(i)"
   ]
  },
  {
   "cell_type": "code",
   "execution_count": 18,
   "metadata": {
    "collapsed": false
   },
   "outputs": [],
   "source": [
    "import numpy as np\n",
    "import cv2\n",
    "import matplotlib\n",
    "\n",
    "matplotlib.use('qt5agg')\n",
    "import matplotlib.pyplot as plt\n",
    "import matplotlib.animation as animation\n"
   ]
  },
  {
   "cell_type": "code",
   "execution_count": 19,
   "metadata": {
    "collapsed": false
   },
   "outputs": [],
   "source": [
    "import matplotlib\n",
    "matplotlib.use('qt5agg')\n",
    "import matplotlib.pyplot as plt\n"
   ]
  },
  {
   "cell_type": "code",
   "execution_count": 20,
   "metadata": {
    "collapsed": true
   },
   "outputs": [],
   "source": [
    "cap = cv2.VideoCapture(0)\n"
   ]
  },
  {
   "cell_type": "code",
   "execution_count": 21,
   "metadata": {
    "collapsed": false
   },
   "outputs": [
    {
     "data": {
      "text/plain": [
       "False"
      ]
     },
     "execution_count": 21,
     "metadata": {},
     "output_type": "execute_result"
    }
   ],
   "source": [
    "cap.isOpened()"
   ]
  },
  {
   "cell_type": "code",
   "execution_count": 22,
   "metadata": {
    "collapsed": false
   },
   "outputs": [
    {
     "data": {
      "text/plain": [
       "['',\n",
       " '/home/ecci/miniconda3/envs/py3/lib/python36.zip',\n",
       " '/home/ecci/miniconda3/envs/py3/lib/python3.6',\n",
       " '/home/ecci/miniconda3/envs/py3/lib/python3.6/lib-dynload',\n",
       " '/home/ecci/miniconda3/envs/py3/lib/python3.6/site-packages',\n",
       " '/home/ecci/miniconda3/envs/py3/lib/python3.6/site-packages/setuptools-27.2.0-py3.6.egg',\n",
       " '/home/ecci/miniconda3/envs/py3/lib/python3.6/site-packages/IPython/extensions',\n",
       " '/home/ecci/.ipython',\n",
       " '/home/ecci/miniconda3/envs/py27/lib/python27.zip',\n",
       " '/home/ecci/miniconda3/envs/py27/lib/python2.7',\n",
       " '/home/ecci/miniconda3/envs/py27/lib/python2.7/plat-linux2',\n",
       " '/home/ecci/miniconda3/envs/py27/lib/python2.7/lib-tk',\n",
       " '/home/ecci/miniconda3/envs/py27/lib/python2.7/lib-old',\n",
       " '/home/ecci/miniconda3/envs/py27/lib/python2.7/lib-dynload',\n",
       " '/home/ecci/miniconda3/envs/py27/lib/python2.7/site-packages',\n",
       " '/home/ecci/miniconda3/envs/py27/lib/python2.7/site-packages/Sphinx-1.5.6-py2.7.egg',\n",
       " '/home/ecci/miniconda3/envs/py27/lib/python2.7/site-packages/setuptools-27.2.0-py2.7.egg',\n",
       " '/home/ecci/miniconda3/envs/py27/lib/python2.7/site-packages/wx-3.0-gtk2']"
      ]
     },
     "execution_count": 22,
     "metadata": {},
     "output_type": "execute_result"
    }
   ],
   "source": [
    "import sys\n",
    "sys.path"
   ]
  },
  {
   "cell_type": "code",
   "execution_count": 25,
   "metadata": {
    "collapsed": false
   },
   "outputs": [
    {
     "ename": "error",
     "evalue": "/home/travis/miniconda/conda-bld/conda_1486587069159/work/opencv-3.1.0/modules/imgproc/src/color.cpp:7456: error: (-215) scn == 3 || scn == 4 in function ipp_cvtColor\n",
     "output_type": "error",
     "traceback": [
      "\u001b[0;31m---------------------------------------------------------------------------\u001b[0m",
      "\u001b[0;31merror\u001b[0m                                     Traceback (most recent call last)",
      "\u001b[0;32m<ipython-input-25-7d04d687a042>\u001b[0m in \u001b[0;36m<module>\u001b[0;34m()\u001b[0m\n\u001b[1;32m      6\u001b[0m \u001b[0;34m\u001b[0m\u001b[0m\n\u001b[1;32m      7\u001b[0m     \u001b[0;31m# Our operations on the frame come here\u001b[0m\u001b[0;34m\u001b[0m\u001b[0;34m\u001b[0m\u001b[0m\n\u001b[0;32m----> 8\u001b[0;31m     \u001b[0mgray\u001b[0m \u001b[0;34m=\u001b[0m \u001b[0mcv2\u001b[0m\u001b[0;34m.\u001b[0m\u001b[0mcvtColor\u001b[0m\u001b[0;34m(\u001b[0m\u001b[0mframe\u001b[0m\u001b[0;34m,\u001b[0m \u001b[0mcv2\u001b[0m\u001b[0;34m.\u001b[0m\u001b[0mCOLOR_BGR2GRAY\u001b[0m\u001b[0;34m)\u001b[0m\u001b[0;34m\u001b[0m\u001b[0m\n\u001b[0m\u001b[1;32m      9\u001b[0m \u001b[0;34m\u001b[0m\u001b[0m\n\u001b[1;32m     10\u001b[0m     \u001b[0;31m# Display the resulting frame\u001b[0m\u001b[0;34m\u001b[0m\u001b[0;34m\u001b[0m\u001b[0m\n",
      "\u001b[0;31merror\u001b[0m: /home/travis/miniconda/conda-bld/conda_1486587069159/work/opencv-3.1.0/modules/imgproc/src/color.cpp:7456: error: (-215) scn == 3 || scn == 4 in function ipp_cvtColor\n"
     ]
    }
   ],
   "source": [
    "cap = cv2.VideoCapture(0)\n",
    "\n",
    "while(True):\n",
    "    # Capture frame-by-frame\n",
    "    ret, frame = cap.read()\n",
    "\n",
    "    # Our operations on the frame come here\n",
    "    gray = cv2.cvtColor(frame, cv2.COLOR_BGR2GRAY)\n",
    "\n",
    "    # Display the resulting frame\n",
    "    cv2.imshow('frame',gray)\n",
    "    if cv2.waitKey(1) & 0xFF == ord('q'):\n",
    "        break   "
   ]
  },
  {
   "cell_type": "code",
   "execution_count": 26,
   "metadata": {
    "collapsed": false
   },
   "outputs": [
    {
     "ename": "error",
     "evalue": "/home/travis/miniconda/conda-bld/conda_1486587069159/work/opencv-3.1.0/modules/imgproc/src/color.cpp:7341: error: (-215) scn == 3 || scn == 4 in function ipp_cvtColor\n",
     "output_type": "error",
     "traceback": [
      "\u001b[0;31m---------------------------------------------------------------------------\u001b[0m",
      "\u001b[0;31merror\u001b[0m                                     Traceback (most recent call last)",
      "\u001b[0;32m<ipython-input-26-4e04214d4576>\u001b[0m in \u001b[0;36m<module>\u001b[0;34m()\u001b[0m\n\u001b[1;32m      3\u001b[0m \u001b[0max\u001b[0m \u001b[0;34m=\u001b[0m \u001b[0mfig\u001b[0m\u001b[0;34m.\u001b[0m\u001b[0madd_subplot\u001b[0m\u001b[0;34m(\u001b[0m\u001b[0;36m111\u001b[0m\u001b[0;34m)\u001b[0m\u001b[0;34m\u001b[0m\u001b[0m\n\u001b[1;32m      4\u001b[0m \u001b[0mret\u001b[0m\u001b[0;34m,\u001b[0m \u001b[0mframe\u001b[0m \u001b[0;34m=\u001b[0m \u001b[0mcap\u001b[0m\u001b[0;34m.\u001b[0m\u001b[0mread\u001b[0m\u001b[0;34m(\u001b[0m\u001b[0;34m)\u001b[0m\u001b[0;34m\u001b[0m\u001b[0m\n\u001b[0;32m----> 5\u001b[0;31m \u001b[0mim\u001b[0m \u001b[0;34m=\u001b[0m \u001b[0max\u001b[0m\u001b[0;34m.\u001b[0m\u001b[0mimshow\u001b[0m\u001b[0;34m(\u001b[0m\u001b[0mcv2\u001b[0m\u001b[0;34m.\u001b[0m\u001b[0mcvtColor\u001b[0m\u001b[0;34m(\u001b[0m\u001b[0mframe\u001b[0m\u001b[0;34m,\u001b[0m \u001b[0mcv2\u001b[0m\u001b[0;34m.\u001b[0m\u001b[0mCOLOR_BGR2RGB\u001b[0m\u001b[0;34m)\u001b[0m\u001b[0;34m,\u001b[0m \u001b[0manimated\u001b[0m\u001b[0;34m=\u001b[0m\u001b[0;32mTrue\u001b[0m\u001b[0;34m)\u001b[0m\u001b[0;34m\u001b[0m\u001b[0m\n\u001b[0m\u001b[1;32m      6\u001b[0m \u001b[0;32mdef\u001b[0m \u001b[0mupdatefig\u001b[0m\u001b[0;34m(\u001b[0m\u001b[0;34m*\u001b[0m\u001b[0margs\u001b[0m\u001b[0;34m)\u001b[0m\u001b[0;34m:\u001b[0m\u001b[0;34m\u001b[0m\u001b[0m\n\u001b[1;32m      7\u001b[0m     \u001b[0mret\u001b[0m\u001b[0;34m,\u001b[0m \u001b[0mframe\u001b[0m \u001b[0;34m=\u001b[0m \u001b[0mcap\u001b[0m\u001b[0;34m.\u001b[0m\u001b[0mread\u001b[0m\u001b[0;34m(\u001b[0m\u001b[0;34m)\u001b[0m\u001b[0;34m\u001b[0m\u001b[0m\n",
      "\u001b[0;31merror\u001b[0m: /home/travis/miniconda/conda-bld/conda_1486587069159/work/opencv-3.1.0/modules/imgproc/src/color.cpp:7341: error: (-215) scn == 3 || scn == 4 in function ipp_cvtColor\n"
     ]
    }
   ],
   "source": [
    "cap = cv2.VideoCapture(0)\n",
    "fig = plt.figure() \n",
    "ax = fig.add_subplot(111)\n",
    "ret, frame = cap.read()\n",
    "im = ax.imshow(cv2.cvtColor(frame, cv2.COLOR_BGR2RGB), animated=True)\n",
    "def updatefig(*args):\n",
    "    ret, frame = cap.read()\n",
    "    im.set_array(cv2.cvtColor(frame, cv2.COLOR_BGR2RGB))\n",
    "    return im\n",
    "ani = animation.FuncAnimation(fig, updatefig, interval=10)\n",
    "plt.show()"
   ]
  },
  {
   "cell_type": "code",
   "execution_count": 10,
   "metadata": {
    "collapsed": false
   },
   "outputs": [
    {
     "ename": "AttributeError",
     "evalue": "'NoneType' object has no attribute 'shape'",
     "output_type": "error",
     "traceback": [
      "\u001b[0;31m---------------------------------------------------------------------------\u001b[0m",
      "\u001b[0;31mAttributeError\u001b[0m                            Traceback (most recent call last)",
      "\u001b[0;32m<ipython-input-10-ca35a3fd9cfa>\u001b[0m in \u001b[0;36m<module>\u001b[0;34m()\u001b[0m\n\u001b[1;32m      1\u001b[0m \u001b[0mfig\u001b[0m \u001b[0;34m=\u001b[0m \u001b[0mplt\u001b[0m\u001b[0;34m.\u001b[0m\u001b[0mfigure\u001b[0m\u001b[0;34m(\u001b[0m\u001b[0;34m)\u001b[0m\u001b[0;34m\u001b[0m\u001b[0m\n\u001b[0;32m----> 2\u001b[0;31m \u001b[0mmyem\u001b[0m\u001b[0;34m=\u001b[0m\u001b[0mnp\u001b[0m\u001b[0;34m.\u001b[0m\u001b[0mzeros\u001b[0m\u001b[0;34m(\u001b[0m\u001b[0mframe\u001b[0m\u001b[0;34m.\u001b[0m\u001b[0mshape\u001b[0m\u001b[0;34m[\u001b[0m\u001b[0;34m:\u001b[0m\u001b[0;36m2\u001b[0m\u001b[0;34m]\u001b[0m\u001b[0;34m)\u001b[0m\u001b[0;34m\u001b[0m\u001b[0m\n\u001b[0m\u001b[1;32m      3\u001b[0m \u001b[0mmyem\u001b[0m\u001b[0;34m[\u001b[0m\u001b[0;36m100\u001b[0m\u001b[0;34m,\u001b[0m\u001b[0;36m100\u001b[0m\u001b[0;34m]\u001b[0m\u001b[0;34m=\u001b[0m\u001b[0;36m255\u001b[0m\u001b[0;34m\u001b[0m\u001b[0m\n\u001b[1;32m      4\u001b[0m \u001b[0max\u001b[0m \u001b[0;34m=\u001b[0m \u001b[0mfig\u001b[0m\u001b[0;34m.\u001b[0m\u001b[0madd_subplot\u001b[0m\u001b[0;34m(\u001b[0m\u001b[0;36m111\u001b[0m\u001b[0;34m)\u001b[0m\u001b[0;34m\u001b[0m\u001b[0m\n\u001b[1;32m      5\u001b[0m \u001b[0mret\u001b[0m\u001b[0;34m,\u001b[0m \u001b[0mframe\u001b[0m \u001b[0;34m=\u001b[0m \u001b[0mcap\u001b[0m\u001b[0;34m.\u001b[0m\u001b[0mread\u001b[0m\u001b[0;34m(\u001b[0m\u001b[0;34m)\u001b[0m\u001b[0;34m\u001b[0m\u001b[0m\n",
      "\u001b[0;31mAttributeError\u001b[0m: 'NoneType' object has no attribute 'shape'"
     ]
    }
   ],
   "source": [
    "fig = plt.figure() \n",
    "myem=np.zeros(frame.shape[:2])\n",
    "myem[100,100]=255\n",
    "ax = fig.add_subplot(111)\n",
    "ret, frame = cap.read()\n",
    "ret,thresh = cv2.threshold(frame,127,255,1)\n",
    "ima,contours,hierarchy = cv2.findContours(thresh[:,:,0].copy(), 1, 2)\n",
    "\n",
    "#im = ax.imshow(cv2.cvtColor(frame, cv2.COLOR_BGR2RGB), animated=True)\n",
    "im2 = ax.imshow(ima, animated=True,cmap='Greys')\n",
    "\n",
    "def updatefig(*args):\n",
    "    ret, frame = cap.read()\n",
    "    ret,thresh = cv2.threshold(frame,50,255,0)\n",
    "    ima,contours,hierarchy = cv2.findContours(thresh[:,:,0].copy(), 1, 2)\n",
    "    im2.set_array(ima.copy())\n",
    "    return im2\n",
    "\n",
    "\n",
    "ani = animation.FuncAnimation(fig, updatefig, interval=10)\n",
    "#ani2 = animation.FuncAnimation(fig, updatefig2, interval=1, blit=True)\n",
    "plt.show()"
   ]
  },
  {
   "cell_type": "code",
   "execution_count": 11,
   "metadata": {
    "collapsed": true
   },
   "outputs": [],
   "source": [
    "img = cv2.imread('salinger.jpg',0)\n",
    "ret,thresh = cv2.threshold(img,127,255,0)\n",
    "im2,contours,hierarchy = cv2.findContours(thresh, 1, 2)"
   ]
  },
  {
   "cell_type": "code",
   "execution_count": 12,
   "metadata": {
    "collapsed": false
   },
   "outputs": [],
   "source": [
    "plt.imshow(thresh,cmap='Greys')\n",
    "plt.show()"
   ]
  },
  {
   "cell_type": "code",
   "execution_count": 84,
   "metadata": {
    "collapsed": false
   },
   "outputs": [],
   "source": [
    "im2,contours,hierarchy = cv2.findContours(thresh, 1, 2)"
   ]
  },
  {
   "cell_type": "code",
   "execution_count": 13,
   "metadata": {
    "collapsed": false
   },
   "outputs": [
    {
     "data": {
      "text/plain": [
       "(267, 478)"
      ]
     },
     "execution_count": 13,
     "metadata": {},
     "output_type": "execute_result"
    }
   ],
   "source": [
    "im2.shape"
   ]
  },
  {
   "cell_type": "code",
   "execution_count": 14,
   "metadata": {
    "collapsed": true
   },
   "outputs": [],
   "source": [
    "plt.imshow(im2,cmap='Greys')\n",
    "plt.show()"
   ]
  },
  {
   "cell_type": "code",
   "execution_count": 373,
   "metadata": {
    "collapsed": false
   },
   "outputs": [],
   "source": [
    "ret, frame = cap.read()\n",
    "ret,thresh = cv2.threshold(frame,50,255,0)\n",
    "plt.imshow(thresh[:,:,0],cmap='Greys')\n",
    "plt.show()"
   ]
  },
  {
   "cell_type": "code",
   "execution_count": 374,
   "metadata": {
    "collapsed": false
   },
   "outputs": [],
   "source": [
    "ret, frame = cap.read()\n",
    "ret,thresh = cv2.threshold(frame,50,255,1)\n",
    "plt.imshow(thresh[:,:,0],cmap='Greys')\n",
    "plt.show()"
   ]
  },
  {
   "cell_type": "code",
   "execution_count": 375,
   "metadata": {
    "collapsed": false
   },
   "outputs": [],
   "source": [
    "mask=thresh[:,:,0]\n",
    "res = cv2.bitwise_and(frame,frame, mask=mask) # masks threshold\n",
    "plt.imshow(res)\n",
    "plt.show()\n"
   ]
  },
  {
   "cell_type": "code",
   "execution_count": 376,
   "metadata": {
    "collapsed": false
   },
   "outputs": [],
   "source": [
    "\n",
    "\n",
    "kernel = cv2.getStructuringElement(cv2.MORPH_RECT,(4, 4))\n",
    "mask = cv2.morphologyEx(mask, cv2.MORPH_OPEN, kernel)\n",
    "kernel = cv2.getStructuringElement(cv2.MORPH_RECT,(7, 7))\n",
    "mask = cv2.morphologyEx(mask, cv2.MORPH_CLOSE, kernel, iterations=1)\n",
    "plt.imshow(mask, cmap='gray')\n",
    "\n",
    "plt.show()"
   ]
  },
  {
   "cell_type": "code",
   "execution_count": 377,
   "metadata": {
    "collapsed": false
   },
   "outputs": [
    {
     "name": "stdout",
     "output_type": "stream",
     "text": [
      "Se detectaron: 16 contornos\n"
     ]
    }
   ],
   "source": [
    "mask_original = mask.copy()  # Se guarda una copia de la máscara\n",
    "im2, contours, hierarchy = cv2.findContours(mask_original.copy(), cv2.RETR_TREE, cv2.CHAIN_APPROX_SIMPLE)\n",
    "\n",
    "print(\"Se detectaron: {0} contornos\".format(len(contours)))\n",
    "\n"
   ]
  },
  {
   "cell_type": "code",
   "execution_count": 378,
   "metadata": {
    "collapsed": true
   },
   "outputs": [],
   "source": [
    "\n",
    "\n",
    "img_contours = frame.copy()\n",
    "img_contours = cv2.drawContours(img_contours, contours, -1, (0, 255, 0), 3)\n",
    "plt.imshow(img_contours)\n",
    "\n",
    "plt.show()"
   ]
  },
  {
   "cell_type": "code",
   "execution_count": 379,
   "metadata": {
    "collapsed": false
   },
   "outputs": [
    {
     "name": "stdout",
     "output_type": "stream",
     "text": [
      "Centro de masa: (379.82807570977917, 180.1372239747634)\n"
     ]
    }
   ],
   "source": [
    "\n",
    "\n",
    "moments = cv2.moments(contours[-1])\n",
    "c_x = moments['m10']/moments['m00']\n",
    "c_y = moments['m01']/moments['m00']\n",
    "\n",
    "print(\"Centro de masa: ({0}, {1})\".format(c_x, c_y))\n",
    "\n"
   ]
  },
  {
   "cell_type": "code",
   "execution_count": 380,
   "metadata": {
    "collapsed": false
   },
   "outputs": [
    {
     "name": "stdout",
     "output_type": "stream",
     "text": [
      "Área de mayor tamaño: 63127.5\n"
     ]
    }
   ],
   "source": [
    "\n",
    "\n",
    "max_cnt, max_area = None, 0\n",
    "for cnt in contours:\n",
    "    area = cv2.contourArea(cnt)\n",
    "    if area > max_area:\n",
    "        max_cnt, max_area = cnt, area\n",
    "\n",
    "print(\"Área de mayor tamaño: {0}\".format(max_area))\n",
    "\n"
   ]
  },
  {
   "cell_type": "code",
   "execution_count": 381,
   "metadata": {
    "collapsed": true
   },
   "outputs": [],
   "source": [
    "img_contours = frame.copy()\n",
    "img_contours = cv2.drawContours(img_contours, [max_cnt], -1, (0, 255, 0), 3)\n",
    "plt.imshow(img_contours)\n",
    "plt.show()\n",
    "\n"
   ]
  },
  {
   "cell_type": "code",
   "execution_count": 383,
   "metadata": {
    "collapsed": false
   },
   "outputs": [],
   "source": [
    "\n",
    "\n",
    "img_circ = frame.copy()\n",
    "\n",
    "(x, y), radius = cv2.minEnclosingCircle(max_cnt) # Retorna el centro del círculo y su radio\n",
    "center = (int(x), int(y)) # Los parámetros deben ser enteros\n",
    "radius = int(radius)\n",
    "\n",
    "cv2.circle(img_circ, center, radius, (0, 255, 0), 3)\n",
    "plt.imshow(img_circ)\n",
    "plt.show()\n"
   ]
  },
  {
   "cell_type": "code",
   "execution_count": null,
   "metadata": {
    "collapsed": true
   },
   "outputs": [],
   "source": []
  },
  {
   "cell_type": "code",
   "execution_count": null,
   "metadata": {
    "collapsed": true
   },
   "outputs": [],
   "source": []
  },
  {
   "cell_type": "code",
   "execution_count": null,
   "metadata": {
    "collapsed": true
   },
   "outputs": [],
   "source": []
  },
  {
   "cell_type": "code",
   "execution_count": 185,
   "metadata": {
    "collapsed": false
   },
   "outputs": [],
   "source": [
    "plt.imshow(im2)\n",
    "plt.scatter(cx,cy)\n",
    "plt.show()"
   ]
  },
  {
   "cell_type": "code",
   "execution_count": 135,
   "metadata": {
    "collapsed": false
   },
   "outputs": [],
   "source": [
    "(x,y),radius = cv2.minEnclosingCircle(cnt)\n",
    "center = (int(x),int(y))\n",
    "radius = int(radius)\n",
    "myci=cv2.circle(im2,center,radius,(0,255,0),2)\n",
    "cv2.imshow('asd',myci)\n",
    "plt.show()"
   ]
  },
  {
   "cell_type": "code",
   "execution_count": 151,
   "metadata": {
    "collapsed": false
   },
   "outputs": [],
   "source": [
    "imrec=im2.copy()\n",
    "x,y,w,h = cv2.boundingRect(cnt)\n",
    "myre=cv2.rectangle(imrec,(x,y),(x+w,y+h),(0,255,0),2)\n",
    "plt.imshow(imrec)\n",
    "plt.show()"
   ]
  },
  {
   "cell_type": "code",
   "execution_count": 153,
   "metadata": {
    "collapsed": false
   },
   "outputs": [],
   "source": [
    "\n",
    "\n",
    "img_ell = im2.copy()\n",
    "\n",
    "ellipse = cv2.fitEllipse(cnt)\n",
    "\n",
    "cv2.ellipse(img_ell, ellipse, (0, 255, 0), 3) # Dibuja una elipse\n",
    "plt.imshow(img_ell)\n",
    "plt.show()\n",
    "\n"
   ]
  },
  {
   "cell_type": "code",
   "execution_count": 16,
   "metadata": {
    "collapsed": false
   },
   "outputs": [
    {
     "ename": "AttributeError",
     "evalue": "'NoneType' object has no attribute 'shape'",
     "output_type": "error",
     "traceback": [
      "\u001b[0;31m---------------------------------------------------------------------------\u001b[0m",
      "\u001b[0;31mAttributeError\u001b[0m                            Traceback (most recent call last)",
      "\u001b[0;32m<ipython-input-16-59b10a2cbfc0>\u001b[0m in \u001b[0;36m<module>\u001b[0;34m()\u001b[0m\n\u001b[1;32m      1\u001b[0m \u001b[0mfig\u001b[0m \u001b[0;34m=\u001b[0m \u001b[0mplt\u001b[0m\u001b[0;34m.\u001b[0m\u001b[0mfigure\u001b[0m\u001b[0;34m(\u001b[0m\u001b[0;34m)\u001b[0m\u001b[0;34m\u001b[0m\u001b[0m\n\u001b[0;32m----> 2\u001b[0;31m \u001b[0mmyem\u001b[0m\u001b[0;34m=\u001b[0m\u001b[0mnp\u001b[0m\u001b[0;34m.\u001b[0m\u001b[0mzeros\u001b[0m\u001b[0;34m(\u001b[0m\u001b[0mframe\u001b[0m\u001b[0;34m.\u001b[0m\u001b[0mshape\u001b[0m\u001b[0;34m[\u001b[0m\u001b[0;34m:\u001b[0m\u001b[0;36m2\u001b[0m\u001b[0;34m]\u001b[0m\u001b[0;34m)\u001b[0m\u001b[0;34m\u001b[0m\u001b[0m\n\u001b[0m\u001b[1;32m      3\u001b[0m \u001b[0mmyem\u001b[0m\u001b[0;34m[\u001b[0m\u001b[0;36m100\u001b[0m\u001b[0;34m,\u001b[0m\u001b[0;36m100\u001b[0m\u001b[0;34m]\u001b[0m\u001b[0;34m=\u001b[0m\u001b[0;36m255\u001b[0m\u001b[0;34m\u001b[0m\u001b[0m\n\u001b[1;32m      4\u001b[0m \u001b[0max\u001b[0m \u001b[0;34m=\u001b[0m \u001b[0mfig\u001b[0m\u001b[0;34m.\u001b[0m\u001b[0madd_subplot\u001b[0m\u001b[0;34m(\u001b[0m\u001b[0;36m111\u001b[0m\u001b[0;34m)\u001b[0m\u001b[0;34m\u001b[0m\u001b[0m\n\u001b[1;32m      5\u001b[0m \u001b[0mret\u001b[0m\u001b[0;34m,\u001b[0m \u001b[0mframe\u001b[0m \u001b[0;34m=\u001b[0m \u001b[0mcap\u001b[0m\u001b[0;34m.\u001b[0m\u001b[0mread\u001b[0m\u001b[0;34m(\u001b[0m\u001b[0;34m)\u001b[0m\u001b[0;34m\u001b[0m\u001b[0m\n",
      "\u001b[0;31mAttributeError\u001b[0m: 'NoneType' object has no attribute 'shape'"
     ]
    }
   ],
   "source": [
    "fig = plt.figure() \n",
    "myem=np.zeros(frame.shape[:2])\n",
    "myem[100,100]=255\n",
    "ax = fig.add_subplot(111)\n",
    "ret, frame = cap.read()\n",
    "ret,thresh = cv2.threshold(frame,127,255,0)\n",
    "#ima,contours,hierarchy = cv2.findContours(thresh[:,:,0].copy(), 1, 2)\n",
    "\n",
    "im = ax.imshow(cv2.cvtColor(frame, cv2.COLOR_BGR2RGB), animated=True)\n",
    "#im2 = ax.imshow(frame, animated=True,cmap='Greys',alpha=0.2)\n",
    "im2 = ax.scatter(100,100)\n",
    "\n",
    "def updatefig(*args):\n",
    "    ret, frame = cap.read()\n",
    "    ret,thresh = cv2.threshold(frame,20,255,1) # use 0 for negative contours\n",
    "    mask=thresh[:,:,0]\n",
    "    kernel = cv2.getStructuringElement(cv2.MORPH_RECT,(4, 4))\n",
    "    mask = cv2.morphologyEx(mask, cv2.MORPH_CLOSE, kernel, iterations=1)\n",
    "    kernel = cv2.getStructuringElement(cv2.MORPH_RECT,(7, 7))\n",
    "    mask = cv2.morphologyEx(mask, cv2.MORPH_CLOSE, kernel, iterations=1)\n",
    "    res = cv2.bitwise_and(frame,frame, mask=mask)\n",
    "#    im2.set_array(res)\n",
    "    mask_original = mask.copy()  # Se guarda una copia de la máscara\n",
    "    ima, contours, hierarchy = cv2.findContours(mask_original.copy(), cv2.RETR_TREE, cv2.CHAIN_APPROX_SIMPLE)\n",
    "    max_cnt, max_area = None, 0\n",
    "    for cnt in contours:\n",
    "        area = cv2.contourArea(cnt)\n",
    "        if area > max_area:\n",
    "            max_cnt, max_area = cnt, area\n",
    "    img_contours = frame.copy()\n",
    "#    img_contours = cv2.drawContours(img_contours, contours, -1, (0, 255, 0), 3)            \n",
    "    img_contours = cv2.drawContours(img_contours, [max_cnt], -1, (0, 255, 0), 3)   \n",
    "    img_circ = frame.copy()\n",
    "\n",
    "    (x, y), radius = cv2.minEnclosingCircle(max_cnt) # Retorna el centro del círculo y su radio\n",
    "    center = (int(x), int(y)) # Los parámetros deben ser enteros\n",
    "    radius = int(radius)\n",
    "\n",
    "    img_circ=cv2.circle(img_circ, center, radius, (0, 255, 0), 3)\n",
    "#    im.set_array(cv2.cvtColor(img_contours, cv2.COLOR_BGR2RGB))   \n",
    "    im.set_array(cv2.cvtColor(img_circ, cv2.COLOR_BGR2RGB))   \n",
    "    \n",
    "    moments = cv2.moments(max_cnt)\n",
    "    try:\n",
    "        c_x = moments['m10']/moments['m00']\n",
    "        c_y = moments['m01']/moments['m00']\n",
    "    except:\n",
    "        c_x,c_y=np.array(frame.shape)[:2]/2\n",
    "\n",
    "    x=np.array([c_x])\n",
    "    y=np.array([c_y])\n",
    "    data = np.hstack((x[:,np.newaxis], y[:, np.newaxis]))\n",
    "    im2.set_offsets(data)\n",
    "    return im,im2\n",
    "\n",
    "\n",
    "ani = animation.FuncAnimation(fig, updatefig, interval=10)\n",
    "#ani2 = animation.FuncAnimation(fig, updatefig2, interval=1, blit=True)\n",
    "plt.show()"
   ]
  },
  {
   "cell_type": "code",
   "execution_count": null,
   "metadata": {
    "collapsed": true
   },
   "outputs": [],
   "source": [
    "https://www.pyimagesearch.com/2015/07/16/where-did-sift-and-surf-go-in-opencv-3/"
   ]
  }
 ],
 "metadata": {
  "kernelspec": {
   "display_name": "Python 3",
   "language": "python",
   "name": "python3"
  },
  "language_info": {
   "codemirror_mode": {
    "name": "ipython",
    "version": 3
   },
   "file_extension": ".py",
   "mimetype": "text/x-python",
   "name": "python",
   "nbconvert_exporter": "python",
   "pygments_lexer": "ipython3",
   "version": "3.6.1"
  }
 },
 "nbformat": 4,
 "nbformat_minor": 0
}
